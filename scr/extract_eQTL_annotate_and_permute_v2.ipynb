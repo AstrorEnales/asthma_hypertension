{
 "cells": [
  {
   "cell_type": "code",
   "execution_count": 2,
   "metadata": {
    "collapsed": true
   },
   "outputs": [],
   "source": [
    "from __future__ import print_function\n",
    "import pandas as pd \n",
    "import seaborn as sns\n",
    "import matplotlib.pyplot as plt\n",
    "import numpy as np\n",
    "import sys,os\n",
    "from scipy.stats import fisher_exact\n",
    "import random\n",
    "\n",
    "# directory to write otput\n",
    "eQTL_dir = \"../genetic_associations/eQTL/\"\n",
    "\n",
    "# \n",
    "gwas_dir = \"../genetic_associations/GWAS/\"\n",
    "# this directory should contain .dbSNP150_b37common.rsid2variant.txt with \\t-separated \n",
    "# chrom pos ref alt rsid\n",
    "dbSNP_dir = \"/home/olga/DATA/asthma_hypertension/version_3/genetic_associations/eQTL/GTEx_v6/GTEx_Analysis_v6p_eQTL/\"\n",
    "\n",
    "\n",
    "%matplotlib inline  "
   ]
  },
  {
   "cell_type": "markdown",
   "metadata": {},
   "source": [
    "# This notebook \n",
    " * Takes prepared eQTL data files and annotates them with rs IDs from dbSNP150\n",
    " * Extracts eQTLs overlapping with GWAS hits for asthma and hypertension and finds genes controlled by these eQTLs\n",
    " * Does permutations to prove that overlap between is much more than expected by chance "
   ]
  },
  {
   "cell_type": "code",
   "execution_count": 4,
   "metadata": {
    "collapsed": false
   },
   "outputs": [],
   "source": [
    "def assign_dbSNP(row,dbsnp_dict):\n",
    "    # add positional correction !!!\n",
    "    pos = row[\"pos\"]\n",
    "    rsid_reported = row[\"rsid_reported\"] \n",
    "    rsids = []\n",
    "    # 1) search for matchig rsid in close proximity\n",
    "    for i in [0,1,-1,2,-2]:\n",
    "        try:\n",
    "            rsids = dbsnp_dict[pos+i]\n",
    "            if rsid_reported in rsids:\n",
    "                return rsid_reported\n",
    "        except:\n",
    "            pass\n",
    "    # 2) if no match take the first closest rsid or a group of rsids\n",
    "    if len(rsids)>0:\n",
    "        for i in [0,1,-1,2,-2]:\n",
    "            try: \n",
    "                rsids = dbsnp_dict[pos+i]\n",
    "                return \",\".join(list(set(rsids)))\n",
    "            except: \n",
    "                pass\n",
    "    return None\n",
    "        \n",
    "    \n",
    "def sort_and_assign_dbSNP(dfs):\n",
    "    dfs[\"chrom\"] = dfs[\"chrom\"].apply(str)\n",
    "    dfs[\"pos\"] = dfs[\"pos\"].apply(int)\n",
    "    dfs2 = []\n",
    "    for i in map(str,range(1,23))+[\"X\",\"Y\"]:\n",
    "        i = str(i)\n",
    "        df = dfs[dfs.chrom == i]\n",
    "        if df.shape[0]>0:\n",
    "            dbsnp_dict = {}\n",
    "            prev_pos = 0\n",
    "            with open(dbSNP_dir+str(i)+\".dbSNP150_b37common.rsid2variant.txt\",\"r\") as infile:\n",
    "                for line in infile:\n",
    "                    line = line.rstrip().split(\"\\t\")\n",
    "                    pos = int(line[1])\n",
    "                    rsid = line[4]\n",
    "                    if not pos == prev_pos:\n",
    "                        dbsnp_dict[pos] = [rsid]\n",
    "                        prev_pos = pos\n",
    "                    else:\n",
    "                        dbsnp_dict[pos] += [rsid]\n",
    "            #print(i,len(dbsnp_dict.keys()))\n",
    "            df[\"rsid\"] = df.apply(lambda row : assign_dbSNP(row,dbsnp_dict),axis=1)\n",
    "            print(i,df[df.cis_trans == \"trans\"].shape[0],df[df.cis_trans == \"cis\"].shape[0],\"start sorting...\")\n",
    "            df = split_rows(df,\"rsid\",\",\")\n",
    "            df.sort_values(by= ['pos'],ascending = [True], inplace = True)\n",
    "            dfs2.append(df)\n",
    "    dfs2  = pd.concat(dfs2)\n",
    "    dfs2.index = range(0,dfs2.shape[0])\n",
    "    dfs2.drop_duplicates(inplace = True) \n",
    "    return dfs2\n",
    "\n",
    "def split_rows(df,col,sep):\n",
    "    #df_null = df[df.rsid.isnull()]\n",
    "    df2 = df[~df.rsid.isnull()]\n",
    "    df_tosplit = df2[df2[col].str.contains(\",\")]\n",
    "    df_keep = df2[~df2[col].str.contains(\",\")]\n",
    "    print(\"initial rows:\", df.shape[0],\"rows without rsid:\",df[df.rsid.isnull()].shape[0])\n",
    "#      \"rows to separate:\",df_tosplit.shape[0], \"intact:\",df_keep.shape[0])\n",
    "    if df_tosplit.shape[0]>0:\n",
    "        s = df_tosplit[col].str.split(',').apply(pd.Series, 1).stack()\n",
    "        s.index = s.index.droplevel(-1)\n",
    "        s.name = col\n",
    "        del df_tosplit[col]\n",
    "        df_tosplit = df_tosplit.join(s)\n",
    "    df2 = pd.concat([df_keep,df_tosplit])\n",
    "    print(\"rows after separation:\", df2.shape[0])\n",
    "    return df2"
   ]
  },
  {
   "cell_type": "markdown",
   "metadata": {},
   "source": [
    "## Assign dbSNP 150 rs IDs if necessary\n",
    "\n",
    "If no rsid field provided, guesses dbSNP 150 rsid from rsid_reported and position\n",
    "if more than 1 rsid available for a position, selects id matching with rsid_reported; \n",
    "    if none matches with rsid_reported, than reports all risds as separate records\n",
    "    * ! this mapping approach is not fully correct, but it is suitable for our needs - we need only approximate SNP position and don't care about alleles\n",
    "only common variants (>1%) considered\n",
    "drop records failed to map to any rsid in dbSNP150 \n",
    "assumes ref=hg19/GRCh37\n"
   ]
  },
  {
   "cell_type": "code",
   "execution_count": null,
   "metadata": {
    "collapsed": false
   },
   "outputs": [
    {
     "name": "stdout",
     "output_type": "stream",
     "text": [
      "Westra_blood.FDR0.05.rsid.tsv\n",
      "\t total :  659998 records  genes 6750 variants 378075\n",
      "\t deduplicated :  578540 records  genes 6750 variants 378075\n",
      "Jansen_blood.FDR0.05.rsid.tsv\n",
      "\t total :  3161130 records  genes 7176 variants 1200859\n",
      "\t deduplicated :  2179126 records  genes 7176 variants 1200859\n",
      "Joehanes_FHS.FDR0.05.rsid.tsv\n"
     ]
    }
   ],
   "source": [
    "eQTLdb= []\n",
    "for dataset in [\"Westra_blood.FDR0.05.rsid.tsv\",\"Jansen_blood.FDR0.05.rsid.tsv\",\n",
    "                \"Joehanes_FHS.FDR0.05.rsid.tsv\",\"GTEx_v6.FDR0.05.tsv\"]:\n",
    "    print(dataset)\n",
    "    df = pd.read_csv(eQTL_dir+\"db/\"+dataset,sep=\"\\t\")\n",
    "    df[\"chrom\"] = df[\"chrom\"].apply(str)\n",
    "    df[\"pos\"] = df[\"pos\"].apply(int)\n",
    "    if not \"rsid\" in df.columns:\n",
    "        df = sort_and_assign_dbSNP(df)\n",
    "        print(\"all records\",df.shape[0],\"no rsid\",df[df.rsid.isnull()].shape[0])\n",
    "        df = df[~df.rsid.isnull()]\n",
    "        print(\"ambigous\",df[df.rsid.str.contains(\",\")].shape[0])\n",
    "        df.to_csv(out_dir+dataset+\".FDR0.05.rsid.tsv\",sep=\"\\t\",index = False)\n",
    "    df =df[[\"chrom\", \"pos\",\"rsid\",\"rsid_reported\",\"gene\",\"tissue\",\"source\",\"cis_trans\"]]\n",
    "    print(\"\\t\"+\" total : \",df.shape[0],\"records \",\n",
    "          \"genes\",len(set(df.gene.values)),\"variants\", len(set(df.rsid_reported.values)))\n",
    "    df = df.drop_duplicates()\n",
    "    print(\"\\t\"+\" deduplicated : \",df.shape[0],\"records \",\n",
    "          \"genes\",len(set(df.gene.values)),\"variants\", len(set(df.rsid_reported.values)))\n",
    "    eQTLdb.append(df)"
   ]
  },
  {
   "cell_type": "code",
   "execution_count": 7,
   "metadata": {
    "collapsed": false
   },
   "outputs": [
    {
     "name": "stdout",
     "output_type": "stream",
     "text": [
      "total eQTL records 34927900 trans 751757\n",
      "with rsid  34927900\n"
     ]
    }
   ],
   "source": [
    "eQTLdb= pd.concat(eQTLdb)\n",
    "print(\"total eQTL records\",eQTLdb.shape[0],\"trans\",eQTLdb[eQTLdb.cis_trans == \"trans\"].shape[0])\n",
    "eQTLdb = eQTLdb[~eQTLdb.rsid.isnull()]\n",
    "#print(\"with rsid \",eQTLdb.shape[0])"
   ]
  },
  {
   "cell_type": "code",
   "execution_count": 7,
   "metadata": {
    "collapsed": false
   },
   "outputs": [
    {
     "name": "stdout",
     "output_type": "stream",
     "text": [
      "unique records: 11313581 cis: 10582603 trans: 730978\n"
     ]
    }
   ],
   "source": [
    "### unique records \n",
    "x = eQTLdb[[\"rsid\",\"cis_trans\",\"gene\"]].drop_duplicates()\n",
    "print(\"unique records:\",x.shape[0],\"cis:\",x[x.cis_trans==\"cis\"].shape[0],\"trans:\",x[x.cis_trans==\"trans\"].shape[0])"
   ]
  },
  {
   "cell_type": "code",
   "execution_count": 8,
   "metadata": {
    "collapsed": false
   },
   "outputs": [
    {
     "name": "stdout",
     "output_type": "stream",
     "text": [
      "hypertension records 144 unique rsid 105\n",
      "asthma records 448 unique rsid 412\n"
     ]
    }
   ],
   "source": [
    "gwas = {}\n",
    "for disease in [\"asthma\",\"hypertension\"]:\n",
    "    rs = pd.read_csv(gwas_dir+disease+\".full_GWAS.tsv\",sep =\"\\t\")[['CHR_ID','CHR_POS','SNPS','MAPPED_GENE',\"CONTEXT\",\"P-VALUE\",'DISEASE/TRAIT',\"PUBMEDID\"]]\n",
    "    rs = rs[~rs.CHR_ID.isnull()]\n",
    "    gwas[disease] =  rs\n",
    "\n",
    "for k in gwas.keys():\n",
    "    print(k, \"records\", gwas[k].shape[0], \"unique rsid\",len(set(gwas[k][\"SNPS\"].values)))"
   ]
  },
  {
   "cell_type": "code",
   "execution_count": 9,
   "metadata": {
    "collapsed": false
   },
   "outputs": [
    {
     "name": "stdout",
     "output_type": "stream",
     "text": [
      "Asthma   GWAS rs: 412 rs among eQTL: 140 controlled genes: 439\n",
      "Hypertension GWAS rs: 105 rs among eQTL: 46  contolled genes: 213\n",
      "Common rs: 1 genes: 110\n",
      "Common SNPs  set(['rs3184504']) control only  39 genes.\n"
     ]
    }
   ],
   "source": [
    "# asthma\n",
    "a_rs  = set(gwas[\"asthma\"][\"SNPS\"].values)\n",
    "aeQTL = eQTLdb[eQTLdb.rsid.isin(a_rs)][[\"gene\",\"rsid\"]].drop_duplicates()\n",
    "aeQTL_genes =set(aeQTL[\"gene\"].values)\n",
    "aeQTL_rs = set(aeQTL[\"rsid\"].values)\n",
    "print(\"Asthma   GWAS rs:\",len(a_rs),\"rs among eQTL:\",len(aeQTL_rs),\"controlled genes:\",len(aeQTL_genes))\n",
    "# hypertension\n",
    "h_rs  = set(gwas[\"hypertension\"][\"SNPS\"].values)\n",
    "heQTL = eQTLdb[eQTLdb.rsid.isin(h_rs)][[\"gene\",\"rsid\"]].drop_duplicates()\n",
    "heQTL_genes =set(heQTL[\"gene\"].values)\n",
    "heQTL_rs = set(heQTL[\"rsid\"].values)\n",
    "print(\"Hypertension GWAS rs:\",len(h_rs),\"rs among eQTL:\",len(heQTL_rs),\" contolled genes:\",len(heQTL_genes))\n",
    "# now many common SNPs and genes \n",
    "aheQTL_rs = heQTL_rs.intersection(aeQTL_rs)\n",
    "aheQTL_genes = heQTL_genes.intersection(aeQTL_genes)\n",
    "print(\"Common rs:\",len(aheQTL_rs),\"genes:\",len(aheQTL_genes))\n",
    "print(\"Common SNPs \",aheQTL_rs,\"control only \",len(set(eQTLdb[eQTLdb.rsid.isin(aheQTL_rs)].gene.values)),\"genes.\")"
   ]
  },
  {
   "cell_type": "code",
   "execution_count": 10,
   "metadata": {
    "collapsed": false
   },
   "outputs": [
    {
     "data": {
      "text/plain": [
       "(99.158084221087734, 2.5389660581086602e-148)"
      ]
     },
     "execution_count": 10,
     "metadata": {},
     "output_type": "execute_result"
    }
   ],
   "source": [
    "### Do we have more eQTL controlled genes in intersection of H and A than expected?\n",
    "def do_fisher(ab, a, b, N):\n",
    "    return fisher_exact([[ab, a-ab], [b-ab, N-a-b+ab]],alternative=\"greater\")\n",
    "do_fisher(len(heQTL_genes.intersection(aeQTL_genes)), len(aeQTL_genes), len(heQTL_genes), len(set(eQTLdb['gene'].values)))"
   ]
  },
  {
   "cell_type": "code",
   "execution_count": 11,
   "metadata": {
    "collapsed": false
   },
   "outputs": [
    {
     "name": "stdout",
     "output_type": "stream",
     "text": [
      "p-val 0.0 observed 110 expected 10.2935 [7, 10, 8, 7, 3, 14, 3, 3, 10, 26, 32, 17, 0, 5, 16, 0, 5, 2, 23, 5]\n"
     ]
    }
   ],
   "source": [
    "def permute_eQTLs(eQTLdb,n1,n2,N,observed):\n",
    "    \"\"\"gets 2 random rsid sets of given sizes, \n",
    "    extract controled genes from eQTLdbs and counts overlaped genes.\n",
    "    Does N permutations.\"\"\"\n",
    "    permuts = []\n",
    "    all_rsid = set(eQTLdb['rsid'].values)\n",
    "    for i in range(0,N):\n",
    "        rs1 =  set(random.sample(all_rsid,n1))\n",
    "        rs2 =  set(random.sample(all_rsid,n2))\n",
    "        gs1  = set(eQTLdb[eQTLdb.rsid.isin(rs1)]['gene'].values)\n",
    "        gs2  = set(eQTLdb[eQTLdb.rsid.isin(rs2)]['gene'].values)\n",
    "        result = len(gs1.intersection(gs2))#,len(rs1.intersection(rs2))\n",
    "        permuts.append(result)\n",
    "    p_val = float(len([x for x in permuts if x >observed]))/N\n",
    "    expected = float(sum(permuts))/N\n",
    "    return permuts, p_val, expected \n",
    "N = 10000\n",
    "permuts = []\n",
    "observed = len(heQTL_genes.intersection(aeQTL_genes))\n",
    "#permuts, p_val, expected = \n",
    "permuts, p_val, expected = permute_eQTLs(eQTLdb,len(aeQTL_rs), len(heQTL_rs),N,observed )\n",
    "print(\"p-val\",p_val,\"observed\",observed,\"expected\",expected,permuts[:20])"
   ]
  },
  {
   "cell_type": "code",
   "execution_count": 12,
   "metadata": {
    "collapsed": false
   },
   "outputs": [
    {
     "data": {
      "text/plain": [
       "<matplotlib.text.Text at 0x7f656d339510>"
      ]
     },
     "execution_count": 12,
     "metadata": {},
     "output_type": "execute_result"
    },
    {
     "data": {
      "image/png": "[encoded data removed]",
      "text/plain": [
       "<matplotlib.figure.Figure at 0x7f6550267690>"
      ]
     },
     "metadata": {},
     "output_type": "display_data"
    }
   ],
   "source": [
    "plt.hist(permuts,bins=20)\n",
    "plt.xlabel(\"genes\")\n",
    "plt.ylabel(\"n_permutations\")"
   ]
  },
  {
   "cell_type": "code",
   "execution_count": 11,
   "metadata": {
    "collapsed": false
   },
   "outputs": [
    {
     "name": "stdout",
     "output_type": "stream",
     "text": [
      "rsid 140 140\n",
      "all: 1102 cis 882 trans 220 rsid 140 genes 439\n"
     ]
    }
   ],
   "source": [
    "x = eQTLdb[eQTLdb.rsid.isin(a_rs)].drop_duplicates()\n",
    "print(\"rsid\",len(set(x[\"rsid\"].values)),len(aeQTL_rs))\n",
    "x=x.merge(gwas[\"asthma\"]\n",
    "          ,left_on=\"rsid\",right_on = \"SNPS\",how = \"outer\")\n",
    "\n",
    "x = x.dropna(axis=0)\n",
    "x = x[[\"chrom\",\"pos\",\"rsid\",\"rsid_reported\",\"gene\",\"tissue\",\"source\", \"cis_trans\",\"CHR_ID\",\"CHR_POS\",\"MAPPED_GENE\",\"CONTEXT\",\"P-VALUE\",\"DISEASE/TRAIT\",\"PUBMEDID\"]]\n",
    "x = x.drop_duplicates()\n",
    "x.to_csv(eQTL_dir+\"Asthma.eQTL.tsv\",sep = \"\\t\",index=False)\n",
    "#x[\"chrom\",\"pos\",\"\"]\n",
    "x = x [[\"rsid\",\"gene\",\"cis_trans\"]].drop_duplicates()\n",
    "print(\"all:\",x.shape[0],\"cis\",x[x.cis_trans == \"cis\"].shape[0],\n",
    "     \"trans\",x[x.cis_trans == \"trans\"].shape[0],\"rsid\",len(set(x[\"rsid\"].values)),\n",
    "      \"genes\",len(set(x[\"gene\"].values)))"
   ]
  },
  {
   "cell_type": "code",
   "execution_count": 12,
   "metadata": {
    "collapsed": false
   },
   "outputs": [
    {
     "name": "stdout",
     "output_type": "stream",
     "text": [
      "all: 300 cis 244 trans 56 rsid 46 genes 213\n"
     ]
    }
   ],
   "source": [
    "x = eQTLdb[eQTLdb.rsid.isin(h_rs)].drop_duplicates()\n",
    "x=x.merge(gwas[\"hypertension\"]\n",
    "          ,left_on=\"rsid\",right_on = \"SNPS\",how = \"outer\")\n",
    "x = x.dropna(axis=0)\n",
    "x = x[[\"chrom\",\"pos\",\"rsid\",\"rsid_reported\",\"gene\",\"tissue\",\"source\", \"cis_trans\",\"CHR_ID\",\"CHR_POS\",\"MAPPED_GENE\",\"CONTEXT\",\"P-VALUE\",\"DISEASE/TRAIT\",\"PUBMEDID\"]]\n",
    "x = x.drop_duplicates()\n",
    "x.to_csv(eQTL_dir+\"Hypertension.eQTL.tsv\",sep = \"\\t\",index=False)\n",
    "x = x [[\"rsid\",\"gene\",\"cis_trans\"]].drop_duplicates()\n",
    "print(\"all:\",x.shape[0],\"cis\",x[x.cis_trans == \"cis\"].shape[0],\n",
    "     \"trans\",x[x.cis_trans == \"trans\"].shape[0],\"rsid\",len(set(x[\"rsid\"].values)),\n",
    "      \"genes\",len(set(x[\"gene\"].values)))\n"
   ]
  },
  {
   "cell_type": "code",
   "execution_count": null,
   "metadata": {
    "collapsed": true
   },
   "outputs": [],
   "source": []
  }
 ],
 "metadata": {
  "anaconda-cloud": {},
  "kernelspec": {
   "display_name": "Python [default]",
   "language": "python",
   "name": "python2"
  },
  "language_info": {
   "codemirror_mode": {
    "name": "ipython",
    "version": 2
   },
   "file_extension": ".py",
   "mimetype": "text/x-python",
   "name": "python",
   "nbconvert_exporter": "python",
   "pygments_lexer": "ipython2",
   "version": "2.7.12"
  }
 },
 "nbformat": 4,
 "nbformat_minor": 1
}
